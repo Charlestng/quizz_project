{
 "cells": [
  {
   "cell_type": "code",
   "execution_count": 22,
   "id": "6d5dbb2b-c90e-42f1-99a5-86fcc3d7444f",
   "metadata": {},
   "outputs": [],
   "source": [
    "class quizz_maker():\n",
    "    def __init__(self):\n",
    "        self.quizzes ={}\n",
    "    \n",
    "    def make_quizz(self):\n",
    "        ID = len(self.quizzes)\n",
    "        self.quizzes[ID] = {}\n",
    "        self.quizzes[ID][\"questions\"] = list()\n",
    "        self.quizzes[ID][\"answers\"] = list()\n",
    "        more = True\n",
    "        while more:\n",
    "            while True:\n",
    "                question = input(\"What's your question?\")\n",
    "                validate_question = input(\"Is that right? {} Y/N?\".format(question))\n",
    "                if validate_question==\"Y\":\n",
    "                    break\n",
    "            while True:\n",
    "                answer = input(\"The question is: {}, please type the answer\".format(question))\n",
    "                validate_answer = input(\"The answer to: {} \\n is: {} \\n is that correct Y/N?\".format(question, answer))\n",
    "                if validate_answer==\"Y\":\n",
    "                    break\n",
    "            self.quizzes[ID][\"questions\"].append(question)\n",
    "            self.quizzes[ID][\"answers\"].append(answer)\n",
    "            end = input(\"Do you wish to add more questions? Y/N?\")\n",
    "            if end == \"N\":\n",
    "                break\n",
    "        while True:\n",
    "            lives = int(input(\"How many trials do you wish to grant the quizz takers?\"))\n",
    "            validate_lives =input(\"{} lives, is that correct? Y/N?\".format(lives))\n",
    "            if validate_lives==\"Y\":\n",
    "                break\n",
    "        self.quizzes[ID][\"lives\"] = lives\n",
    "    \n",
    "    def take_quizz(self):\n",
    "        if len(self.quizzes)==0:\n",
    "            print(\"No quizzes yet, please use make_quiz to create one\")\n",
    "        else:\n",
    "            while True:\n",
    "                quizz_nb = int(input(\"Which quiz do you wish to take? \\n available quizzes : {}\".format(self.quizzes.keys())))\n",
    "                if int(quizz_nb) in self.quizzes.keys():\n",
    "                    break\n",
    "                else:\n",
    "                    print(\"Please enter a valid quizz ID\")\n",
    "            question_nb = len(self.quizzes[quizz_nb][\"questions\"])\n",
    "            lives = self.quizzes[quizz_nb][\"lives\"]\n",
    "            for index in range(question_nb):\n",
    "                while lives>0:\n",
    "                    question = self.quizzes[quizz_nb][\"questions\"][index]\n",
    "                    correct_answer = self.quizzes[quizz_nb][\"answers\"][index]\n",
    "                    answer = input(question)\n",
    "                    if answer==correct_answer:\n",
    "                        break\n",
    "                    else: lives-=1\n",
    "                              \n",
    "\n",
    "            \n",
    "            \n",
    "            "
   ]
  },
  {
   "cell_type": "code",
   "execution_count": 23,
   "id": "f7914f41-bf24-4dd4-9457-c10850c4dfb4",
   "metadata": {},
   "outputs": [
    {
     "name": "stdin",
     "output_type": "stream",
     "text": [
      "What's your question? a\n",
      "Is that right? a Y/N? Y\n",
      "The question is: a, please type the answer a\n",
      "The answer to: a \n",
      " is: a \n",
      " is that correct Y/N? Y\n",
      "Do you wish to add more questions? Y/N? N\n",
      "How many trials do you wish to grant the quizz takers? 3\n",
      "3 lives, is that correct? Y/N? Y\n"
     ]
    }
   ],
   "source": [
    "q = quizz_maker()\n",
    "q.make_quizz()"
   ]
  },
  {
   "cell_type": "code",
   "execution_count": 24,
   "id": "089efeb7-8d4c-49f1-89b1-e4879ae6f53e",
   "metadata": {},
   "outputs": [
    {
     "name": "stdin",
     "output_type": "stream",
     "text": [
      "Which quiz do you wish to take? \n",
      " available quizzes : dict_keys([0]) 0\n",
      "a b\n",
      "a e\n",
      "a r\n"
     ]
    }
   ],
   "source": [
    "q.take_quizz()"
   ]
  },
  {
   "cell_type": "code",
   "execution_count": 12,
   "id": "becadc5e-1e4b-4fa0-b6ae-be6fbc4de1c4",
   "metadata": {},
   "outputs": [
    {
     "data": {
      "text/plain": [
       "2"
      ]
     },
     "execution_count": 12,
     "metadata": {},
     "output_type": "execute_result"
    }
   ],
   "source": [
    "len({\"g\":[5,6], \"a\":7})"
   ]
  },
  {
   "cell_type": "code",
   "execution_count": null,
   "id": "b4e13acc-a426-49be-86cc-67dcf91cda0a",
   "metadata": {},
   "outputs": [],
   "source": [
    "type()"
   ]
  },
  {
   "cell_type": "code",
   "execution_count": null,
   "id": "ae785677-a4e7-424c-9b45-7b05f89e58cd",
   "metadata": {},
   "outputs": [],
   "source": []
  }
 ],
 "metadata": {
  "kernelspec": {
   "display_name": "Python 3 (ipykernel)",
   "language": "python",
   "name": "python3"
  },
  "language_info": {
   "codemirror_mode": {
    "name": "ipython",
    "version": 3
   },
   "file_extension": ".py",
   "mimetype": "text/x-python",
   "name": "python",
   "nbconvert_exporter": "python",
   "pygments_lexer": "ipython3",
   "version": "3.9.7"
  }
 },
 "nbformat": 4,
 "nbformat_minor": 5
}
